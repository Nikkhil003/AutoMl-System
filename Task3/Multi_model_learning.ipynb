{
 "cells": [
  {
   "cell_type": "code",
   "execution_count": 4,
   "metadata": {},
   "outputs": [
    {
     "name": "stderr",
     "output_type": "stream",
     "text": [
      "Downloading data:   8%|▊         | 41.9M/494M [24:57<4:28:56, 28.0kB/s]\n"
     ]
    }
   ],
   "source": [
    "import os\n",
    "import gzip\n",
    "import numpy as np\n",
    "import torch\n",
    "from torch.utils.data import Dataset, DataLoader\n",
    "from torchvision import transforms\n",
    "from PIL import Image\n",
    "from transformers import CLIPProcessor, CLIPModel"
   ]
  },
  {
   "cell_type": "code",
   "execution_count": 16,
   "metadata": {},
   "outputs": [],
   "source": [
    "import struct\n",
    "import numpy as np\n",
    "from PIL import Image"
   ]
  },
  {
   "cell_type": "code",
   "execution_count": 17,
   "metadata": {},
   "outputs": [],
   "source": [
    "# Function to load the MNIST images from IDX format\n",
    "def load_mnist_images(filename):\n",
    "    with open(filename, 'rb') as f:\n",
    "        _, num_images, rows, cols = struct.unpack('>IIII', f.read(16))\n",
    "        images = np.fromfile(f, dtype=np.uint8).reshape(num_images, rows, cols)\n",
    "    return images"
   ]
  },
  {
   "cell_type": "code",
   "execution_count": 18,
   "metadata": {},
   "outputs": [],
   "source": [
    "# Function to load the MNIST labels from IDX format\n",
    "def load_mnist_labels(filename):\n",
    "    with open(filename, 'rb') as f:\n",
    "        _, num_labels = struct.unpack('>II', f.read(8))\n",
    "        labels = np.fromfile(f, dtype=np.uint8)\n",
    "    return labels"
   ]
  },
  {
   "cell_type": "code",
   "execution_count": 26,
   "metadata": {},
   "outputs": [],
   "source": [
    "# Load the dataset from the raw MNIST .gz files\n",
    "train_images = load_mnist_images('./dataset/train-images.idx3-ubyte')\n",
    "train_labels = load_mnist_labels('./dataset/train-labels.idx1-ubyte')\n",
    "test_images = load_mnist_images('./dataset/t10k-images.idx3-ubyte')\n",
    "test_labels = load_mnist_labels('./dataset/t10k-labels.idx1-ubyte')\n"
   ]
  },
  {
   "cell_type": "code",
   "execution_count": 20,
   "metadata": {},
   "outputs": [],
   "source": [
    "# Convert images to PIL format (grayscale images need 3 channels for CLIP)\n",
    "def preprocess_image(image):\n",
    "    image = Image.fromarray(image)\n",
    "    image = image.convert('RGB')  # Convert to 3-channel RGB format\n",
    "    image = image.resize((224, 224))  # Resize for CLIP model\n",
    "    return image"
   ]
  },
  {
   "cell_type": "code",
   "execution_count": 21,
   "metadata": {},
   "outputs": [],
   "source": [
    "# Example usage: preprocess first image from the training set\n",
    "sample_image = preprocess_image(train_images[0])\n",
    "sample_image.show()"
   ]
  },
  {
   "cell_type": "code",
   "execution_count": 22,
   "metadata": {},
   "outputs": [],
   "source": [
    "from torch.utils.data import Dataset, DataLoader\n",
    "from transformers import CLIPProcessor, CLIPModel\n",
    "\n",
    "# Custom Dataset Class for MNIST with Text Descriptions\n",
    "class MNISTTextDataset(Dataset):\n",
    "    def __init__(self, images, labels, processor):\n",
    "        self.images = images\n",
    "        self.labels = labels\n",
    "        self.processor = processor\n",
    "\n",
    "    def __len__(self):\n",
    "        return len(self.images)\n",
    "\n",
    "    def __getitem__(self, idx):\n",
    "        # Get image and label\n",
    "        image = preprocess_image(self.images[idx])  # Preprocess image\n",
    "        label = self.labels[idx]\n",
    "        # Create a text description (e.g., \"This is a 3\")\n",
    "        text = f\"This is a {label}\"\n",
    "        # Process the image and text using the CLIP processor\n",
    "        inputs = self.processor(text=[text], images=image, return_tensors=\"pt\", padding=True)\n",
    "        # Remove the batch dimension for processing\n",
    "        input_ids = {k: v.squeeze(0) for k, v in inputs.items()}\n",
    "        return input_ids\n",
    "\n",
    "# Initialize the processor and the dataset\n",
    "processor = CLIPProcessor.from_pretrained(\"openai/clip-vit-base-patch32\")\n",
    "train_dataset = MNISTTextDataset(train_images, train_labels, processor)\n",
    "test_dataset = MNISTTextDataset(test_images, test_labels, processor)\n",
    "\n",
    "# Create DataLoaders\n",
    "train_dataloader = DataLoader(train_dataset, batch_size=8, shuffle=True)\n",
    "test_dataloader = DataLoader(test_dataset, batch_size=8, shuffle=False)\n"
   ]
  },
  {
   "cell_type": "code",
   "execution_count": 24,
   "metadata": {},
   "outputs": [],
   "source": [
    "# Initialize the CLIP model\n",
    "import torch.nn.functional as F\n",
    "model = CLIPModel.from_pretrained(\"openai/clip-vit-base-patch32\")\n",
    "device = torch.device(\"cuda\" if torch.cuda.is_available() else \"cpu\")\n",
    "model.to(device)\n",
    "\n",
    "# Define optimizer\n",
    "optimizer = torch.optim.AdamW(model.parameters(), lr=5e-6)\n",
    "\n",
    "# Modified Training Function with Contrastive Loss\n",
    "def train_clip_model(model, dataloader, optimizer, device):\n",
    "    model.train()\n",
    "    total_loss = 0\n",
    "    for batch in dataloader:\n",
    "        # Move the inputs to the GPU if available\n",
    "        inputs = {k: v.to(device) for k, v in batch.items()}\n",
    "        # Get the image and text embeddings from the model\n",
    "        outputs = model(**inputs)\n",
    "        \n",
    "        # Extract the logits\n",
    "        logits_per_image = outputs.logits_per_image\n",
    "        logits_per_text = outputs.logits_per_text\n",
    "        \n",
    "        # Create labels for contrastive loss\n",
    "        labels = torch.arange(logits_per_image.size(0), device=device)\n",
    "        \n",
    "        # Compute the loss (cross-entropy loss between image-text pairs)\n",
    "        loss_image = F.cross_entropy(logits_per_image, labels)\n",
    "        loss_text = F.cross_entropy(logits_per_text, labels)\n",
    "        loss = (loss_image + loss_text) / 2  # Average the losses\n",
    "\n",
    "        # Backpropagation and optimization\n",
    "        optimizer.zero_grad()\n",
    "        loss.backward()\n",
    "        optimizer.step()\n",
    "\n",
    "        total_loss += loss.item()\n",
    "    return total_loss / len(dataloader)\n",
    "\n",
    "# Validation Function with the same loss\n",
    "def validate_clip_model(model, dataloader, device):\n",
    "    model.eval()\n",
    "    total_loss = 0\n",
    "    with torch.no_grad():\n",
    "        for batch in dataloader:\n",
    "            # Move the inputs to the GPU if available\n",
    "            inputs = {k: v.to(device) for k, v in batch.items()}\n",
    "            # Get the image and text embeddings from the model\n",
    "            outputs = model(**inputs)\n",
    "            \n",
    "            # Extract the logits\n",
    "            logits_per_image = outputs.logits_per_image\n",
    "            logits_per_text = outputs.logits_per_text\n",
    "            \n",
    "            # Create labels for contrastive loss\n",
    "            labels = torch.arange(logits_per_image.size(0), device=device)\n",
    "            \n",
    "            # Compute the loss\n",
    "            loss_image = F.cross_entropy(logits_per_image, labels)\n",
    "            loss_text = F.cross_entropy(logits_per_text, labels)\n",
    "            loss = (loss_image + loss_text) / 2  # Average the losses\n",
    "\n",
    "            total_loss += loss.item()\n",
    "    return total_loss / len(dataloader)\n"
   ]
  },
  {
   "cell_type": "code",
   "execution_count": null,
   "metadata": {},
   "outputs": [],
   "source": []
  },
  {
   "cell_type": "code",
   "execution_count": null,
   "metadata": {},
   "outputs": [],
   "source": []
  },
  {
   "cell_type": "code",
   "execution_count": null,
   "metadata": {},
   "outputs": [],
   "source": []
  }
 ],
 "metadata": {
  "kernelspec": {
   "display_name": "Python 3",
   "language": "python",
   "name": "python3"
  },
  "language_info": {
   "codemirror_mode": {
    "name": "ipython",
    "version": 3
   },
   "file_extension": ".py",
   "mimetype": "text/x-python",
   "name": "python",
   "nbconvert_exporter": "python",
   "pygments_lexer": "ipython3",
   "version": "3.12.4"
  }
 },
 "nbformat": 4,
 "nbformat_minor": 2
}
